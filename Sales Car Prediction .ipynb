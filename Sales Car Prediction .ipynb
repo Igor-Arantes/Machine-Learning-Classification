{
 "cells": [
  {
   "cell_type": "code",
   "execution_count": 9,
   "metadata": {},
   "outputs": [],
   "source": [
    "import pandas  as pd\n",
    "import numpy as np\n",
    "\n",
    "\n",
    "car_sales = pd.read_csv(\"Data/car-prices.csv\")"
   ]
  },
  {
   "cell_type": "code",
   "execution_count": 10,
   "metadata": {},
   "outputs": [
    {
     "data": {
      "text/html": [
       "<div>\n",
       "<style scoped>\n",
       "    .dataframe tbody tr th:only-of-type {\n",
       "        vertical-align: middle;\n",
       "    }\n",
       "\n",
       "    .dataframe tbody tr th {\n",
       "        vertical-align: top;\n",
       "    }\n",
       "\n",
       "    .dataframe thead th {\n",
       "        text-align: right;\n",
       "    }\n",
       "</style>\n",
       "<table border=\"1\" class=\"dataframe\">\n",
       "  <thead>\n",
       "    <tr style=\"text-align: right;\">\n",
       "      <th></th>\n",
       "      <th>Unnamed: 0</th>\n",
       "      <th>mileage_per_year</th>\n",
       "      <th>model_year</th>\n",
       "      <th>price</th>\n",
       "      <th>sold</th>\n",
       "    </tr>\n",
       "  </thead>\n",
       "  <tbody>\n",
       "    <tr>\n",
       "      <th>0</th>\n",
       "      <td>0</td>\n",
       "      <td>21801</td>\n",
       "      <td>2000</td>\n",
       "      <td>30941.02</td>\n",
       "      <td>yes</td>\n",
       "    </tr>\n",
       "    <tr>\n",
       "      <th>1</th>\n",
       "      <td>1</td>\n",
       "      <td>7843</td>\n",
       "      <td>1998</td>\n",
       "      <td>40557.96</td>\n",
       "      <td>yes</td>\n",
       "    </tr>\n",
       "    <tr>\n",
       "      <th>2</th>\n",
       "      <td>2</td>\n",
       "      <td>7109</td>\n",
       "      <td>2006</td>\n",
       "      <td>89627.50</td>\n",
       "      <td>no</td>\n",
       "    </tr>\n",
       "    <tr>\n",
       "      <th>3</th>\n",
       "      <td>3</td>\n",
       "      <td>26823</td>\n",
       "      <td>2015</td>\n",
       "      <td>95276.14</td>\n",
       "      <td>no</td>\n",
       "    </tr>\n",
       "    <tr>\n",
       "      <th>4</th>\n",
       "      <td>4</td>\n",
       "      <td>7935</td>\n",
       "      <td>2014</td>\n",
       "      <td>117384.68</td>\n",
       "      <td>yes</td>\n",
       "    </tr>\n",
       "  </tbody>\n",
       "</table>\n",
       "</div>"
      ],
      "text/plain": [
       "   Unnamed: 0  mileage_per_year  model_year      price sold\n",
       "0           0             21801        2000   30941.02  yes\n",
       "1           1              7843        1998   40557.96  yes\n",
       "2           2              7109        2006   89627.50   no\n",
       "3           3             26823        2015   95276.14   no\n",
       "4           4              7935        2014  117384.68  yes"
      ]
     },
     "execution_count": 10,
     "metadata": {},
     "output_type": "execute_result"
    }
   ],
   "source": [
    "car_sales.head()"
   ]
  },
  {
   "cell_type": "code",
   "execution_count": 11,
   "metadata": {},
   "outputs": [],
   "source": [
    "to_change = {'no':0,'yes':1}\n",
    "car_sales.sold = car_sales.sold.map(to_change)"
   ]
  },
  {
   "cell_type": "code",
   "execution_count": 18,
   "metadata": {},
   "outputs": [],
   "source": [
    "from datetime import datetime\n",
    "car_sales['age'] = datetime.today().year - car_sales.model_year \n",
    "\n",
    "car_sales['km_by_year'] = car_sales['mileage_per_year']*1.60934\n",
    "\n",
    "car_sales = car_sales.drop(columns =['Unnamed: 0', 'mileage_per_year','model_year' ])"
   ]
  },
  {
   "cell_type": "markdown",
   "metadata": {},
   "source": [
    "Using Linear SVC:"
   ]
  },
  {
   "cell_type": "code",
   "execution_count": 25,
   "metadata": {},
   "outputs": [
    {
     "name": "stdout",
     "output_type": "stream",
     "text": [
      "The accuracy was: 58.00%\n"
     ]
    },
    {
     "name": "stderr",
     "output_type": "stream",
     "text": [
      "C:\\Users\\r9kx\\Anaconda3\\lib\\site-packages\\sklearn\\svm\\_base.py:947: ConvergenceWarning: Liblinear failed to converge, increase the number of iterations.\n",
      "  \"the number of iterations.\", ConvergenceWarning)\n"
     ]
    }
   ],
   "source": [
    "import numpy as np\n",
    "from sklearn.model_selection import train_test_split\n",
    "from sklearn.svm import LinearSVC\n",
    "from sklearn.metrics import accuracy_score\n",
    "\n",
    "x = car_sales[['price','age','km_by_year']]\n",
    "y= car_sales['sold']\n",
    "\n",
    "SEED = 5\n",
    "np.random.seed(SEED)\n",
    "train_x, test_x, train_y, test_y = train_test_split(x, y, test_size = 0.25,\n",
    "                                                         stratify = y)\n",
    "model = LinearSVC()\n",
    "model.fit(train_x, train_y)\n",
    "predict = model.predict(test_x)\n",
    "\n",
    "accuracy = accuracy_score(teste_y, predict) * 100\n",
    "print(\"The accuracy was: %.2f%%\" % accuracy)"
   ]
  },
  {
   "cell_type": "markdown",
   "metadata": {},
   "source": [
    "Using SVC:"
   ]
  },
  {
   "cell_type": "code",
   "execution_count": 27,
   "metadata": {},
   "outputs": [
    {
     "name": "stdout",
     "output_type": "stream",
     "text": [
      "The accuracy was: 76.96%\n"
     ]
    }
   ],
   "source": [
    "from sklearn.preprocessing import StandardScaler\n",
    "from sklearn.svm import SVC\n",
    "\n",
    "raw_train_x, raw_test_x, train_y, test_y = train_test_split(x, y, test_size = 0.25,\n",
    "                                                         stratify = y)\n",
    "\n",
    "scaler = StandardScaler()\n",
    "scaler.fit(raw_train_x)\n",
    "train_x = scaler.transform(raw_train_x)\n",
    "test_x = scaler.transform(raw_test_x)\n",
    "\n",
    "\n",
    "model = SVC()\n",
    "model.fit(train_x, train_y)\n",
    "previsoes = model.predict(test_x)\n",
    "\n",
    "accuracy = accuracy_score(test_y, previsoes) * 100\n",
    "print(\"The accuracy was: %.2f%%\" % accuracy)"
   ]
  },
  {
   "cell_type": "markdown",
   "metadata": {},
   "source": [
    "Using  Decision Tree:"
   ]
  },
  {
   "cell_type": "code",
   "execution_count": 50,
   "metadata": {},
   "outputs": [
    {
     "name": "stdout",
     "output_type": "stream",
     "text": [
      "The accuracy was: 79.28%\n"
     ]
    }
   ],
   "source": [
    "from sklearn.tree import DecisionTreeClassifier\n",
    "\n",
    "x = car_sales[['price','age','km_by_year']]\n",
    "y= car_sales['sold']\n",
    "\n",
    "SEED = 5\n",
    "np.random.seed(SEED)\n",
    "raw_train_x, raw_test_x, train_y, test_y = train_test_split(x, y, test_size = 0.25,\n",
    "                                                         stratify = y)\n",
    "\n",
    "\n",
    "model = DecisionTreeClassifier(max_depth = 3)\n",
    "model.fit(raw_train_x, train_y)\n",
    "previsoes = model.predict(raw_test_x)\n",
    "\n",
    "accuracy = accuracy_score(test_y, previsoes) * 100\n",
    "print(\"The accuracy was: %.2f%%\" % accuracy)"
   ]
  },
  {
   "cell_type": "code",
   "execution_count": 51,
   "metadata": {
    "scrolled": true
   },
   "outputs": [
    {
     "data": {
      "image/svg+xml": [
       "<?xml version=\"1.0\" encoding=\"UTF-8\" standalone=\"no\"?>\r\n",
       "<!DOCTYPE svg PUBLIC \"-//W3C//DTD SVG 1.1//EN\"\r\n",
       " \"http://www.w3.org/Graphics/SVG/1.1/DTD/svg11.dtd\">\r\n",
       "<!-- Generated by graphviz version 2.38.0 (20140413.2041)\r\n",
       " -->\r\n",
       "<!-- Title: Tree Pages: 1 -->\r\n",
       "<svg width=\"880pt\" height=\"433pt\"\r\n",
       " viewBox=\"0.00 0.00 880.00 433.00\" xmlns=\"http://www.w3.org/2000/svg\" xmlns:xlink=\"http://www.w3.org/1999/xlink\">\r\n",
       "<g id=\"graph0\" class=\"graph\" transform=\"scale(1 1) rotate(0) translate(4 429)\">\r\n",
       "<title>Tree</title>\r\n",
       "<polygon fill=\"white\" stroke=\"none\" points=\"-4,4 -4,-429 876,-429 876,4 -4,4\"/>\r\n",
       "<!-- 0 -->\r\n",
       "<g id=\"node1\" class=\"node\"><title>0</title>\r\n",
       "<path fill=\"#c8e4f8\" stroke=\"black\" d=\"M390,-425C390,-425 268,-425 268,-425 262,-425 256,-419 256,-413 256,-413 256,-354 256,-354 256,-348 262,-342 268,-342 268,-342 390,-342 390,-342 396,-342 402,-348 402,-354 402,-354 402,-413 402,-413 402,-419 396,-425 390,-425\"/>\r\n",
       "<text text-anchor=\"middle\" x=\"329\" y=\"-409.8\" font-family=\"Helvetica,sans-Serif\" font-size=\"14.00\">price &lt;= 59999.074</text>\r\n",
       "<text text-anchor=\"middle\" x=\"329\" y=\"-394.8\" font-family=\"Helvetica,sans-Serif\" font-size=\"14.00\">gini = 0.487</text>\r\n",
       "<text text-anchor=\"middle\" x=\"329\" y=\"-379.8\" font-family=\"Helvetica,sans-Serif\" font-size=\"14.00\">samples = 7500</text>\r\n",
       "<text text-anchor=\"middle\" x=\"329\" y=\"-364.8\" font-family=\"Helvetica,sans-Serif\" font-size=\"14.00\">value = [3150, 4350]</text>\r\n",
       "<text text-anchor=\"middle\" x=\"329\" y=\"-349.8\" font-family=\"Helvetica,sans-Serif\" font-size=\"14.00\">class = Yes</text>\r\n",
       "</g>\r\n",
       "<!-- 1 -->\r\n",
       "<g id=\"node2\" class=\"node\"><title>1</title>\r\n",
       "<path fill=\"#52aae8\" stroke=\"black\" d=\"M270,-306C270,-306 152,-306 152,-306 146,-306 140,-300 140,-294 140,-294 140,-235 140,-235 140,-229 146,-223 152,-223 152,-223 270,-223 270,-223 276,-223 282,-229 282,-235 282,-235 282,-294 282,-294 282,-300 276,-306 270,-306\"/>\r\n",
       "<text text-anchor=\"middle\" x=\"211\" y=\"-290.8\" font-family=\"Helvetica,sans-Serif\" font-size=\"14.00\">price &lt;= 40070.154</text>\r\n",
       "<text text-anchor=\"middle\" x=\"211\" y=\"-275.8\" font-family=\"Helvetica,sans-Serif\" font-size=\"14.00\">gini = 0.202</text>\r\n",
       "<text text-anchor=\"middle\" x=\"211\" y=\"-260.8\" font-family=\"Helvetica,sans-Serif\" font-size=\"14.00\">samples = 3248</text>\r\n",
       "<text text-anchor=\"middle\" x=\"211\" y=\"-245.8\" font-family=\"Helvetica,sans-Serif\" font-size=\"14.00\">value = [370, 2878]</text>\r\n",
       "<text text-anchor=\"middle\" x=\"211\" y=\"-230.8\" font-family=\"Helvetica,sans-Serif\" font-size=\"14.00\">class = Yes</text>\r\n",
       "</g>\r\n",
       "<!-- 0&#45;&gt;1 -->\r\n",
       "<g id=\"edge1\" class=\"edge\"><title>0&#45;&gt;1</title>\r\n",
       "<path fill=\"none\" stroke=\"black\" d=\"M288.06,-341.907C278.725,-332.651 268.721,-322.732 259.117,-313.209\"/>\r\n",
       "<polygon fill=\"black\" stroke=\"black\" points=\"261.433,-310.576 251.867,-306.021 256.504,-315.547 261.433,-310.576\"/>\r\n",
       "<text text-anchor=\"middle\" x=\"251.974\" y=\"-327.321\" font-family=\"Helvetica,sans-Serif\" font-size=\"14.00\">True</text>\r\n",
       "</g>\r\n",
       "<!-- 6 -->\r\n",
       "<g id=\"node7\" class=\"node\"><title>6</title>\r\n",
       "<path fill=\"#f3c4a2\" stroke=\"black\" d=\"M529,-306C529,-306 365,-306 365,-306 359,-306 353,-300 353,-294 353,-294 353,-235 353,-235 353,-229 359,-223 365,-223 365,-223 529,-223 529,-223 535,-223 541,-229 541,-235 541,-235 541,-294 541,-294 541,-300 535,-306 529,-306\"/>\r\n",
       "<text text-anchor=\"middle\" x=\"447\" y=\"-290.8\" font-family=\"Helvetica,sans-Serif\" font-size=\"14.00\">km_by_year &lt;= 24112.741</text>\r\n",
       "<text text-anchor=\"middle\" x=\"447\" y=\"-275.8\" font-family=\"Helvetica,sans-Serif\" font-size=\"14.00\">gini = 0.453</text>\r\n",
       "<text text-anchor=\"middle\" x=\"447\" y=\"-260.8\" font-family=\"Helvetica,sans-Serif\" font-size=\"14.00\">samples = 4252</text>\r\n",
       "<text text-anchor=\"middle\" x=\"447\" y=\"-245.8\" font-family=\"Helvetica,sans-Serif\" font-size=\"14.00\">value = [2780, 1472]</text>\r\n",
       "<text text-anchor=\"middle\" x=\"447\" y=\"-230.8\" font-family=\"Helvetica,sans-Serif\" font-size=\"14.00\">class = No</text>\r\n",
       "</g>\r\n",
       "<!-- 0&#45;&gt;6 -->\r\n",
       "<g id=\"edge6\" class=\"edge\"><title>0&#45;&gt;6</title>\r\n",
       "<path fill=\"none\" stroke=\"black\" d=\"M369.94,-341.907C379.275,-332.651 389.279,-322.732 398.883,-313.209\"/>\r\n",
       "<polygon fill=\"black\" stroke=\"black\" points=\"401.496,-315.547 406.133,-306.021 396.567,-310.576 401.496,-315.547\"/>\r\n",
       "<text text-anchor=\"middle\" x=\"406.026\" y=\"-327.321\" font-family=\"Helvetica,sans-Serif\" font-size=\"14.00\">False</text>\r\n",
       "</g>\r\n",
       "<!-- 2 -->\r\n",
       "<g id=\"node3\" class=\"node\"><title>2</title>\r\n",
       "<path fill=\"#399de5\" stroke=\"black\" d=\"M110,-179.5C110,-179.5 12,-179.5 12,-179.5 6,-179.5 7.10543e-015,-173.5 7.10543e-015,-167.5 7.10543e-015,-167.5 7.10543e-015,-123.5 7.10543e-015,-123.5 7.10543e-015,-117.5 6,-111.5 12,-111.5 12,-111.5 110,-111.5 110,-111.5 116,-111.5 122,-117.5 122,-123.5 122,-123.5 122,-167.5 122,-167.5 122,-173.5 116,-179.5 110,-179.5\"/>\r\n",
       "<text text-anchor=\"middle\" x=\"61\" y=\"-164.3\" font-family=\"Helvetica,sans-Serif\" font-size=\"14.00\">gini = 0.0</text>\r\n",
       "<text text-anchor=\"middle\" x=\"61\" y=\"-149.3\" font-family=\"Helvetica,sans-Serif\" font-size=\"14.00\">samples = 1441</text>\r\n",
       "<text text-anchor=\"middle\" x=\"61\" y=\"-134.3\" font-family=\"Helvetica,sans-Serif\" font-size=\"14.00\">value = [0, 1441]</text>\r\n",
       "<text text-anchor=\"middle\" x=\"61\" y=\"-119.3\" font-family=\"Helvetica,sans-Serif\" font-size=\"14.00\">class = Yes</text>\r\n",
       "</g>\r\n",
       "<!-- 1&#45;&gt;2 -->\r\n",
       "<g id=\"edge2\" class=\"edge\"><title>1&#45;&gt;2</title>\r\n",
       "<path fill=\"none\" stroke=\"black\" d=\"M158.958,-222.907C143.68,-210.99 126.994,-197.976 111.795,-186.12\"/>\r\n",
       "<polygon fill=\"black\" stroke=\"black\" points=\"113.559,-183.058 103.522,-179.667 109.254,-188.577 113.559,-183.058\"/>\r\n",
       "</g>\r\n",
       "<!-- 3 -->\r\n",
       "<g id=\"node4\" class=\"node\"><title>3</title>\r\n",
       "<path fill=\"#6cb6ec\" stroke=\"black\" d=\"M270,-187C270,-187 152,-187 152,-187 146,-187 140,-181 140,-175 140,-175 140,-116 140,-116 140,-110 146,-104 152,-104 152,-104 270,-104 270,-104 276,-104 282,-110 282,-116 282,-116 282,-175 282,-175 282,-181 276,-187 270,-187\"/>\r\n",
       "<text text-anchor=\"middle\" x=\"211\" y=\"-171.8\" font-family=\"Helvetica,sans-Serif\" font-size=\"14.00\">price &lt;= 40723.646</text>\r\n",
       "<text text-anchor=\"middle\" x=\"211\" y=\"-156.8\" font-family=\"Helvetica,sans-Serif\" font-size=\"14.00\">gini = 0.326</text>\r\n",
       "<text text-anchor=\"middle\" x=\"211\" y=\"-141.8\" font-family=\"Helvetica,sans-Serif\" font-size=\"14.00\">samples = 1807</text>\r\n",
       "<text text-anchor=\"middle\" x=\"211\" y=\"-126.8\" font-family=\"Helvetica,sans-Serif\" font-size=\"14.00\">value = [370, 1437]</text>\r\n",
       "<text text-anchor=\"middle\" x=\"211\" y=\"-111.8\" font-family=\"Helvetica,sans-Serif\" font-size=\"14.00\">class = Yes</text>\r\n",
       "</g>\r\n",
       "<!-- 1&#45;&gt;3 -->\r\n",
       "<g id=\"edge3\" class=\"edge\"><title>1&#45;&gt;3</title>\r\n",
       "<path fill=\"none\" stroke=\"black\" d=\"M211,-222.907C211,-214.649 211,-205.864 211,-197.302\"/>\r\n",
       "<polygon fill=\"black\" stroke=\"black\" points=\"214.5,-197.021 211,-187.021 207.5,-197.021 214.5,-197.021\"/>\r\n",
       "</g>\r\n",
       "<!-- 4 -->\r\n",
       "<g id=\"node5\" class=\"node\"><title>4</title>\r\n",
       "<path fill=\"#9acdf2\" stroke=\"black\" d=\"M111.5,-68C111.5,-68 22.5,-68 22.5,-68 16.5,-68 10.5,-62 10.5,-56 10.5,-56 10.5,-12 10.5,-12 10.5,-6 16.5,-0 22.5,-0 22.5,-0 111.5,-0 111.5,-0 117.5,-0 123.5,-6 123.5,-12 123.5,-12 123.5,-56 123.5,-56 123.5,-62 117.5,-68 111.5,-68\"/>\r\n",
       "<text text-anchor=\"middle\" x=\"67\" y=\"-52.8\" font-family=\"Helvetica,sans-Serif\" font-size=\"14.00\">gini = 0.441</text>\r\n",
       "<text text-anchor=\"middle\" x=\"67\" y=\"-37.8\" font-family=\"Helvetica,sans-Serif\" font-size=\"14.00\">samples = 61</text>\r\n",
       "<text text-anchor=\"middle\" x=\"67\" y=\"-22.8\" font-family=\"Helvetica,sans-Serif\" font-size=\"14.00\">value = [20, 41]</text>\r\n",
       "<text text-anchor=\"middle\" x=\"67\" y=\"-7.8\" font-family=\"Helvetica,sans-Serif\" font-size=\"14.00\">class = Yes</text>\r\n",
       "</g>\r\n",
       "<!-- 3&#45;&gt;4 -->\r\n",
       "<g id=\"edge4\" class=\"edge\"><title>3&#45;&gt;4</title>\r\n",
       "<path fill=\"none\" stroke=\"black\" d=\"M157.38,-103.726C144.785,-94.1494 131.387,-83.9611 118.871,-74.4438\"/>\r\n",
       "<polygon fill=\"black\" stroke=\"black\" points=\"120.87,-71.5666 110.791,-68.2996 116.633,-77.1386 120.87,-71.5666\"/>\r\n",
       "</g>\r\n",
       "<!-- 5 -->\r\n",
       "<g id=\"node6\" class=\"node\"><title>5</title>\r\n",
       "<path fill=\"#6bb6ec\" stroke=\"black\" d=\"M268,-68C268,-68 154,-68 154,-68 148,-68 142,-62 142,-56 142,-56 142,-12 142,-12 142,-6 148,-0 154,-0 154,-0 268,-0 268,-0 274,-0 280,-6 280,-12 280,-12 280,-56 280,-56 280,-62 274,-68 268,-68\"/>\r\n",
       "<text text-anchor=\"middle\" x=\"211\" y=\"-52.8\" font-family=\"Helvetica,sans-Serif\" font-size=\"14.00\">gini = 0.321</text>\r\n",
       "<text text-anchor=\"middle\" x=\"211\" y=\"-37.8\" font-family=\"Helvetica,sans-Serif\" font-size=\"14.00\">samples = 1746</text>\r\n",
       "<text text-anchor=\"middle\" x=\"211\" y=\"-22.8\" font-family=\"Helvetica,sans-Serif\" font-size=\"14.00\">value = [350, 1396]</text>\r\n",
       "<text text-anchor=\"middle\" x=\"211\" y=\"-7.8\" font-family=\"Helvetica,sans-Serif\" font-size=\"14.00\">class = Yes</text>\r\n",
       "</g>\r\n",
       "<!-- 3&#45;&gt;5 -->\r\n",
       "<g id=\"edge5\" class=\"edge\"><title>3&#45;&gt;5</title>\r\n",
       "<path fill=\"none\" stroke=\"black\" d=\"M211,-103.726C211,-95.5175 211,-86.8595 211,-78.56\"/>\r\n",
       "<polygon fill=\"black\" stroke=\"black\" points=\"214.5,-78.2996 211,-68.2996 207.5,-78.2996 214.5,-78.2996\"/>\r\n",
       "</g>\r\n",
       "<!-- 7 -->\r\n",
       "<g id=\"node8\" class=\"node\"><title>7</title>\r\n",
       "<path fill=\"#fcf0e7\" stroke=\"black\" d=\"M508,-187C508,-187 386,-187 386,-187 380,-187 374,-181 374,-175 374,-175 374,-116 374,-116 374,-110 380,-104 386,-104 386,-104 508,-104 508,-104 514,-104 520,-110 520,-116 520,-116 520,-175 520,-175 520,-181 514,-187 508,-187\"/>\r\n",
       "<text text-anchor=\"middle\" x=\"447\" y=\"-171.8\" font-family=\"Helvetica,sans-Serif\" font-size=\"14.00\">price &lt;= 99974.41</text>\r\n",
       "<text text-anchor=\"middle\" x=\"447\" y=\"-156.8\" font-family=\"Helvetica,sans-Serif\" font-size=\"14.00\">gini = 0.498</text>\r\n",
       "<text text-anchor=\"middle\" x=\"447\" y=\"-141.8\" font-family=\"Helvetica,sans-Serif\" font-size=\"14.00\">samples = 2649</text>\r\n",
       "<text text-anchor=\"middle\" x=\"447\" y=\"-126.8\" font-family=\"Helvetica,sans-Serif\" font-size=\"14.00\">value = [1409, 1240]</text>\r\n",
       "<text text-anchor=\"middle\" x=\"447\" y=\"-111.8\" font-family=\"Helvetica,sans-Serif\" font-size=\"14.00\">class = No</text>\r\n",
       "</g>\r\n",
       "<!-- 6&#45;&gt;7 -->\r\n",
       "<g id=\"edge7\" class=\"edge\"><title>6&#45;&gt;7</title>\r\n",
       "<path fill=\"none\" stroke=\"black\" d=\"M447,-222.907C447,-214.649 447,-205.864 447,-197.302\"/>\r\n",
       "<polygon fill=\"black\" stroke=\"black\" points=\"450.5,-197.021 447,-187.021 443.5,-197.021 450.5,-197.021\"/>\r\n",
       "</g>\r\n",
       "<!-- 10 -->\r\n",
       "<g id=\"node11\" class=\"node\"><title>10</title>\r\n",
       "<path fill=\"#e9965b\" stroke=\"black\" d=\"M730,-187C730,-187 604,-187 604,-187 598,-187 592,-181 592,-175 592,-175 592,-116 592,-116 592,-110 598,-104 604,-104 604,-104 730,-104 730,-104 736,-104 742,-110 742,-116 742,-116 742,-175 742,-175 742,-181 736,-187 730,-187\"/>\r\n",
       "<text text-anchor=\"middle\" x=\"667\" y=\"-171.8\" font-family=\"Helvetica,sans-Serif\" font-size=\"14.00\">price &lt;= 100076.957</text>\r\n",
       "<text text-anchor=\"middle\" x=\"667\" y=\"-156.8\" font-family=\"Helvetica,sans-Serif\" font-size=\"14.00\">gini = 0.248</text>\r\n",
       "<text text-anchor=\"middle\" x=\"667\" y=\"-141.8\" font-family=\"Helvetica,sans-Serif\" font-size=\"14.00\">samples = 1603</text>\r\n",
       "<text text-anchor=\"middle\" x=\"667\" y=\"-126.8\" font-family=\"Helvetica,sans-Serif\" font-size=\"14.00\">value = [1371, 232]</text>\r\n",
       "<text text-anchor=\"middle\" x=\"667\" y=\"-111.8\" font-family=\"Helvetica,sans-Serif\" font-size=\"14.00\">class = No</text>\r\n",
       "</g>\r\n",
       "<!-- 6&#45;&gt;10 -->\r\n",
       "<g id=\"edge10\" class=\"edge\"><title>6&#45;&gt;10</title>\r\n",
       "<path fill=\"none\" stroke=\"black\" d=\"M523.328,-222.907C542.592,-212.662 563.381,-201.606 583,-191.173\"/>\r\n",
       "<polygon fill=\"black\" stroke=\"black\" points=\"584.736,-194.214 591.922,-186.428 581.449,-188.033 584.736,-194.214\"/>\r\n",
       "</g>\r\n",
       "<!-- 8 -->\r\n",
       "<g id=\"node9\" class=\"node\"><title>8</title>\r\n",
       "<path fill=\"#f9e0cf\" stroke=\"black\" d=\"M424,-68C424,-68 310,-68 310,-68 304,-68 298,-62 298,-56 298,-56 298,-12 298,-12 298,-6 304,-0 310,-0 310,-0 424,-0 424,-0 430,-0 436,-6 436,-12 436,-12 436,-56 436,-56 436,-62 430,-68 424,-68\"/>\r\n",
       "<text text-anchor=\"middle\" x=\"367\" y=\"-52.8\" font-family=\"Helvetica,sans-Serif\" font-size=\"14.00\">gini = 0.49</text>\r\n",
       "<text text-anchor=\"middle\" x=\"367\" y=\"-37.8\" font-family=\"Helvetica,sans-Serif\" font-size=\"14.00\">samples = 2223</text>\r\n",
       "<text text-anchor=\"middle\" x=\"367\" y=\"-22.8\" font-family=\"Helvetica,sans-Serif\" font-size=\"14.00\">value = [1266, 957]</text>\r\n",
       "<text text-anchor=\"middle\" x=\"367\" y=\"-7.8\" font-family=\"Helvetica,sans-Serif\" font-size=\"14.00\">class = No</text>\r\n",
       "</g>\r\n",
       "<!-- 7&#45;&gt;8 -->\r\n",
       "<g id=\"edge8\" class=\"edge\"><title>7&#45;&gt;8</title>\r\n",
       "<path fill=\"none\" stroke=\"black\" d=\"M417.211,-103.726C410.747,-94.879 403.902,-85.51 397.415,-76.6303\"/>\r\n",
       "<polygon fill=\"black\" stroke=\"black\" points=\"400.054,-74.3095 391.328,-68.2996 394.402,-78.439 400.054,-74.3095\"/>\r\n",
       "</g>\r\n",
       "<!-- 9 -->\r\n",
       "<g id=\"node10\" class=\"node\"><title>9</title>\r\n",
       "<path fill=\"#9dcff2\" stroke=\"black\" d=\"M572,-68C572,-68 466,-68 466,-68 460,-68 454,-62 454,-56 454,-56 454,-12 454,-12 454,-6 460,-0 466,-0 466,-0 572,-0 572,-0 578,-0 584,-6 584,-12 584,-12 584,-56 584,-56 584,-62 578,-68 572,-68\"/>\r\n",
       "<text text-anchor=\"middle\" x=\"519\" y=\"-52.8\" font-family=\"Helvetica,sans-Serif\" font-size=\"14.00\">gini = 0.446</text>\r\n",
       "<text text-anchor=\"middle\" x=\"519\" y=\"-37.8\" font-family=\"Helvetica,sans-Serif\" font-size=\"14.00\">samples = 426</text>\r\n",
       "<text text-anchor=\"middle\" x=\"519\" y=\"-22.8\" font-family=\"Helvetica,sans-Serif\" font-size=\"14.00\">value = [143, 283]</text>\r\n",
       "<text text-anchor=\"middle\" x=\"519\" y=\"-7.8\" font-family=\"Helvetica,sans-Serif\" font-size=\"14.00\">class = Yes</text>\r\n",
       "</g>\r\n",
       "<!-- 7&#45;&gt;9 -->\r\n",
       "<g id=\"edge9\" class=\"edge\"><title>7&#45;&gt;9</title>\r\n",
       "<path fill=\"none\" stroke=\"black\" d=\"M473.81,-103.726C479.568,-94.9703 485.661,-85.7032 491.446,-76.9051\"/>\r\n",
       "<polygon fill=\"black\" stroke=\"black\" points=\"494.535,-78.5781 497.104,-68.2996 488.686,-74.7322 494.535,-78.5781\"/>\r\n",
       "</g>\r\n",
       "<!-- 11 -->\r\n",
       "<g id=\"node12\" class=\"node\"><title>11</title>\r\n",
       "<path fill=\"#e68742\" stroke=\"black\" d=\"M720,-68C720,-68 614,-68 614,-68 608,-68 602,-62 602,-56 602,-56 602,-12 602,-12 602,-6 608,-0 614,-0 614,-0 720,-0 720,-0 726,-0 732,-6 732,-12 732,-12 732,-56 732,-56 732,-62 726,-68 720,-68\"/>\r\n",
       "<text text-anchor=\"middle\" x=\"667\" y=\"-52.8\" font-family=\"Helvetica,sans-Serif\" font-size=\"14.00\">gini = 0.086</text>\r\n",
       "<text text-anchor=\"middle\" x=\"667\" y=\"-37.8\" font-family=\"Helvetica,sans-Serif\" font-size=\"14.00\">samples = 1356</text>\r\n",
       "<text text-anchor=\"middle\" x=\"667\" y=\"-22.8\" font-family=\"Helvetica,sans-Serif\" font-size=\"14.00\">value = [1295, 61]</text>\r\n",
       "<text text-anchor=\"middle\" x=\"667\" y=\"-7.8\" font-family=\"Helvetica,sans-Serif\" font-size=\"14.00\">class = No</text>\r\n",
       "</g>\r\n",
       "<!-- 10&#45;&gt;11 -->\r\n",
       "<g id=\"edge11\" class=\"edge\"><title>10&#45;&gt;11</title>\r\n",
       "<path fill=\"none\" stroke=\"black\" d=\"M667,-103.726C667,-95.5175 667,-86.8595 667,-78.56\"/>\r\n",
       "<polygon fill=\"black\" stroke=\"black\" points=\"670.5,-78.2996 667,-68.2996 663.5,-78.2996 670.5,-78.2996\"/>\r\n",
       "</g>\r\n",
       "<!-- 12 -->\r\n",
       "<g id=\"node13\" class=\"node\"><title>12</title>\r\n",
       "<path fill=\"#91c9f1\" stroke=\"black\" d=\"M860,-68C860,-68 762,-68 762,-68 756,-68 750,-62 750,-56 750,-56 750,-12 750,-12 750,-6 756,-0 762,-0 762,-0 860,-0 860,-0 866,-0 872,-6 872,-12 872,-12 872,-56 872,-56 872,-62 866,-68 860,-68\"/>\r\n",
       "<text text-anchor=\"middle\" x=\"811\" y=\"-52.8\" font-family=\"Helvetica,sans-Serif\" font-size=\"14.00\">gini = 0.426</text>\r\n",
       "<text text-anchor=\"middle\" x=\"811\" y=\"-37.8\" font-family=\"Helvetica,sans-Serif\" font-size=\"14.00\">samples = 247</text>\r\n",
       "<text text-anchor=\"middle\" x=\"811\" y=\"-22.8\" font-family=\"Helvetica,sans-Serif\" font-size=\"14.00\">value = [76, 171]</text>\r\n",
       "<text text-anchor=\"middle\" x=\"811\" y=\"-7.8\" font-family=\"Helvetica,sans-Serif\" font-size=\"14.00\">class = Yes</text>\r\n",
       "</g>\r\n",
       "<!-- 10&#45;&gt;12 -->\r\n",
       "<g id=\"edge12\" class=\"edge\"><title>10&#45;&gt;12</title>\r\n",
       "<path fill=\"none\" stroke=\"black\" d=\"M720.62,-103.726C733.215,-94.1494 746.613,-83.9611 759.129,-74.4438\"/>\r\n",
       "<polygon fill=\"black\" stroke=\"black\" points=\"761.367,-77.1386 767.209,-68.2996 757.13,-71.5666 761.367,-77.1386\"/>\r\n",
       "</g>\r\n",
       "</g>\r\n",
       "</svg>\r\n"
      ],
      "text/plain": [
       "<graphviz.files.Source at 0x13ce0eb17c8>"
      ]
     },
     "execution_count": 51,
     "metadata": {},
     "output_type": "execute_result"
    }
   ],
   "source": [
    "from sklearn.tree import export_graphviz\n",
    "import graphviz\n",
    "\n",
    "features = x.columns\n",
    "dot_data = export_graphviz(model, out_file=None,\n",
    "                           filled = True, rounded = True,\n",
    "                           feature_names = features,\n",
    "                          class_names = [\"No\", \"Yes\"])\n",
    "tree = graphviz.Source(dot_data)\n",
    "\n",
    "tree\n"
   ]
  },
  {
   "cell_type": "code",
   "execution_count": null,
   "metadata": {},
   "outputs": [],
   "source": []
  }
 ],
 "metadata": {
  "kernelspec": {
   "display_name": "Python 3",
   "language": "python",
   "name": "python3"
  },
  "language_info": {
   "codemirror_mode": {
    "name": "ipython",
    "version": 3
   },
   "file_extension": ".py",
   "mimetype": "text/x-python",
   "name": "python",
   "nbconvert_exporter": "python",
   "pygments_lexer": "ipython3",
   "version": "3.7.6"
  }
 },
 "nbformat": 4,
 "nbformat_minor": 4
}
